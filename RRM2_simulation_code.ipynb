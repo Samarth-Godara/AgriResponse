{
  "nbformat": 4,
  "nbformat_minor": 0,
  "metadata": {
    "colab": {
      "name": "RRM2 simulation code.ipynb",
      "provenance": [],
      "collapsed_sections": []
    },
    "kernelspec": {
      "name": "python3",
      "display_name": "Python 3"
    },
    "language_info": {
      "name": "python"
    }
  },
  "cells": [
    {
      "cell_type": "markdown",
      "metadata": {
        "id": "Add56B9_xIFl"
      },
      "source": [
        "# AgriResponse: simulation of RRM2 on the question bank\n",
        "\n",
        "Developer: Mr. Samarth Godara"
      ]
    },
    {
      "cell_type": "code",
      "metadata": {
        "id": "MMkyIyCq9EnX"
      },
      "source": [
        "#for calculation of LD\n",
        "!pip install distance"
      ],
      "execution_count": null,
      "outputs": []
    },
    {
      "cell_type": "code",
      "metadata": {
        "id": "wgFtiMLc1ofw"
      },
      "source": [
        "#for handling knowledge base\n",
        "import pandas as pd\n",
        "#for calculating LD\n",
        "import distance\n",
        "#for computing RRT\n",
        "import datetime\n",
        "\n",
        "#turning off warnings\n",
        "pd.options.mode.chained_assignment = None  # default='warn'"
      ],
      "execution_count": null,
      "outputs": []
    },
    {
      "cell_type": "code",
      "metadata": {
        "id": "ZTC9Rv2Y19HR"
      },
      "source": [
        "#reading the knowledge base\n",
        "dataset = pd.read_csv(\"/content/drive/MyDrive/Research Backups/Project - NLP on KCC/Dataset/kcc_dataset_processed.csv\")\n",
        "print(dataset.columns)"
      ],
      "execution_count": null,
      "outputs": []
    },
    {
      "cell_type": "code",
      "metadata": {
        "id": "3KxlYc5m2Flx"
      },
      "source": [
        "#removing unwanted spaces/tabs at the ends of crop names if any\n",
        "def strip_str(x):\n",
        "  try:\n",
        "    return x['Crop'].strip()\n",
        "  except:\n",
        "    return \"\"\n",
        "\n",
        "dataset['Crop']=dataset.apply(strip_str, axis=1)"
      ],
      "execution_count": null,
      "outputs": []
    },
    {
      "cell_type": "code",
      "metadata": {
        "id": "OfggKSgn34m4"
      },
      "source": [
        "#code of RRM2\n",
        "def model_2(crop, problem, state):\n",
        "\n",
        "  #n-gram splitting function - RRM1\n",
        "  def split_query(problem,x):\n",
        "    n_word = len(problem.split())\n",
        "    words = x['QueryText'].split()\n",
        "    word_bag = []\n",
        "    for i in range(len(words)-(n_word-1)):\n",
        "      word_bag.append(\" \".join(words[i:(i+n_word)]))\n",
        "    return word_bag\n",
        "\n",
        "  #LD calcuation module - RRM1\n",
        "  def l_match(x): \n",
        "    try:\n",
        "      word_list = split_query(problem,x)\n",
        "      problem_str=problem.lower()\n",
        "      for word in word_list:\n",
        "        if distance.levenshtein(problem_str, word.lower())<2:\n",
        "          return True\n",
        "      return False\n",
        "    except:\n",
        "      return False\n",
        "\n",
        "  #selecting dataset corresponding to the input state name - RRM2\n",
        "  st_dataset = dataset[dataset['StateName']==state]\n",
        "\n",
        "  #crop name-based filter\n",
        "  crp_dataset = st_dataset[st_dataset['Crop']==crop]\n",
        "  #LD-based filter\n",
        "  match = crp_dataset.apply(l_match, axis=1)\n",
        "  #extracting the remaining answers\n",
        "  ans_dataset = crp_dataset[match]\n",
        "\n",
        "  if ans_dataset.shape[0]==0:\n",
        "    print(\"No answer found corresponding to the input disease...\")\n",
        "    return []\n",
        "\n",
        "  #answer-length based filter\n",
        "  ans_dataset[\"AnsLength\"]= ans_dataset[\"KccAns\"].str.len()\n",
        "  ans_dataset = ans_dataset[ans_dataset['AnsLength']<100]\n",
        "  ans_dataset.sort_values(by=['AnsLength'], ascending=False, inplace=True)\n",
        "\n",
        "  #returning the extracted answers\n",
        "  return ans_dataset['KccAns'].head(5).values"
      ],
      "execution_count": null,
      "outputs": []
    },
    {
      "cell_type": "code",
      "metadata": {
        "id": "apujPPzeoIpX"
      },
      "source": [
        "#reading the question bank for the simulation\n",
        "query_bank = pd.read_csv(\"/content/drive/MyDrive/Research Backups/Project - NLP on KCC/Dataset/Question Bank.csv\")\n",
        "print(query_bank.columns)"
      ],
      "execution_count": null,
      "outputs": []
    },
    {
      "cell_type": "code",
      "metadata": {
        "id": "qm5q24AkwKgi"
      },
      "source": [
        "#simulation for RRM2\n",
        "\n",
        "count = 1\n",
        "\n",
        "#asking a questionto the model and returning the retrieved answers\n",
        "def ask_quest(x):\n",
        "  global count\n",
        "  print(\"\\nQuestion #\",count)\n",
        "  count+=1\n",
        "\n",
        "  #note the starting and ending time for RRT calculation\n",
        "  t1 = datetime.datetime.now()\n",
        "  answers = model_2(x['Crop'],x['Problem'],x['State'])\n",
        "  t2 = datetime.datetime.now()\n",
        "  t=t2-t1\n",
        "\n",
        "  print(\"Time consumed : \", t.total_seconds())\n",
        "  #print(\" Answers : \\n\", answers)\n",
        "\n",
        "  record = []\n",
        "  for answer in answers:\n",
        "    record.append(answer)\n",
        "  n_ans = len(answers)\n",
        "  while n_ans<5:\n",
        "    record.append(\"No answer\")\n",
        "    n_ans+=1\n",
        "  record.append(t.total_seconds())\n",
        "\n",
        "  #return the answer retrived in simulation\n",
        "  return record\n",
        "\n",
        "#run the simulation\n",
        "ans_time = query_bank.apply(ask_quest, axis=1)"
      ],
      "execution_count": null,
      "outputs": []
    },
    {
      "cell_type": "code",
      "metadata": {
        "id": "asTapbwF1hmC"
      },
      "source": [
        "#storing the simulation results in separate file - 5 answers and RRT\n",
        "dummy = pd.DataFrame()\n",
        "\n",
        "for item in ans_time:\n",
        "  rec = {'Ans1':item[0],'Ans2':item[1],'Ans3':item[2],'Ans4':item[3],'Ans5':item[4],'Time':item[5]}\n",
        "  dummy=dummy.append(rec, ignore_index=True)\n",
        "\n",
        "output = pd.concat([query_bank, dummy], axis=1)"
      ],
      "execution_count": null,
      "outputs": []
    },
    {
      "cell_type": "code",
      "metadata": {
        "id": "QbpZwP6APKsw"
      },
      "source": [
        "#storing the simulation results\n",
        "#output.to_csv(\"/content/drive/MyDrive/Research Backups/Project - NLP on KCC/Dataset/Question Bank_model_2.csv\",index=False)"
      ],
      "execution_count": null,
      "outputs": []
    },
    {
      "cell_type": "code",
      "metadata": {
        "id": "-VoSd6IJo2ta"
      },
      "source": [
        "#reading the simulation results for AP, CWPS, and ARRT calculation\n",
        "output = pd.read_csv(\"/content/drive/MyDrive/Research Backups/Project - NLP on KCC/Dataset/Question Bank_model_2.csv\")"
      ],
      "execution_count": null,
      "outputs": []
    },
    {
      "cell_type": "code",
      "metadata": {
        "id": "bsSJc1OZo42K"
      },
      "source": [
        "#calculating crop-weightages for calculating CWPS\n",
        "crp_w = {}\n",
        "total = 0\n",
        "for crop in output.Crop.unique():\n",
        "  q_count=dataset[dataset['Crop']==crop].shape[0]\n",
        "  #print(crop,\" : \",q_count)\n",
        "  crp_w[crop]=q_count\n",
        "  total=total+q_count\n",
        "#print(\"Total queries : \", total)\n",
        "\n",
        "for crop in output.Crop.unique():\n",
        "  crp_w[crop]=(crp_w[crop]*1)/total\n",
        "\n",
        "#calculating CWPS using crop weightages\n",
        "def crop_w_score(x):\n",
        "  if x['Ans1']!='No answer':\n",
        "    return crp_w[x['Crop']]/5\n",
        "  else:\n",
        "    return 0.0\n",
        "\n",
        "#storing the CWPS in dataframe\n",
        "output['Crop_w_score']=output.apply(crop_w_score, axis=1)\n",
        "\n",
        "print(\"Crop-weighted score : \", output['Crop_w_score'].sum())"
      ],
      "execution_count": null,
      "outputs": []
    },
    {
      "cell_type": "code",
      "metadata": {
        "id": "QmT7Yk20NFMa"
      },
      "source": [
        "#storing the CWPS along with the simulation results\n",
        "output.to_csv(\"/content/drive/MyDrive/Research Backups/Project - NLP on KCC/Dataset/Question Bank_model_2_qws.csv\",index=False)\n",
        "#print(\"Crop-weighted score : \", output['Crop_w_score'].sum())"
      ],
      "execution_count": null,
      "outputs": []
    },
    {
      "cell_type": "code",
      "metadata": {
        "id": "qu3HC_aS9rMV"
      },
      "source": [
        "#printing the metrics performances - these are not correct, as manual inspection is required\n",
        "no_ans = output[output['Ans1']=='No answer']\n",
        "#no_ans['Crop'].unique()\n",
        "print(\"Unanswered Queries : \",no_ans.shape[0])\n",
        "print(\"Accuracy : \",(1-(no_ans.shape[0]/output.shape[0]))*100,\"%\")\n",
        "print(\"Mean query response time : \", output['Time'].mean(),\" Seconds\")"
      ],
      "execution_count": null,
      "outputs": []
    },
    {
      "cell_type": "code",
      "metadata": {
        "id": "ibV6ZQVvauTB"
      },
      "source": [
        "#plotting histogram of the frequency distribution of the RRT \n",
        "import matplotlib.pyplot as plt\n",
        "plt.rcParams.update({'figure.figsize':(7,5), 'figure.dpi':100})\n",
        "plt.hist(output['Time'], bins=50)\n",
        "plt.gca().set(title='Frequency Histogram', ylabel='Frequency');"
      ],
      "execution_count": null,
      "outputs": []
    },
    {
      "cell_type": "code",
      "metadata": {
        "id": "j78yGkiucu8F"
      },
      "source": [
        ""
      ],
      "execution_count": null,
      "outputs": []
    }
  ]
}